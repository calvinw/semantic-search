{
  "cells": [
    {
      "cell_type": "markdown",
      "metadata": {},
      "source": [
        "# Small Similarity Example\n",
        "\n",
        "## Similarities Between Sentences\n",
        "\n",
        "We will look at the similarities between 3 sentences:\n",
        "\n",
        "-   “I like to be in my house”,\n",
        "-   “I enjoy staying home”,\n",
        "-   “The isotope 238u decays to 206pb”\n",
        "\n",
        "Clearly the first two sentences are very similar, and the last one is\n",
        "very different from the first two. We should see that reflected in the\n",
        "similarities that are computed from the embeddings.\n",
        "\n",
        "First we compute the similarities between them"
      ],
      "id": "5a9c11b0-af26-4e18-a464-32d01346343d"
    },
    {
      "cell_type": "code",
      "execution_count": null,
      "metadata": {},
      "outputs": [],
      "source": [
        "import torch\n",
        "from sentence_transformers import SentenceTransformer\n",
        "from sklearn.metrics.pairwise import cosine_similarity\n",
        "import numpy as np\n",
        "import matplotlib.pyplot as plt\n",
        "import seaborn as sns\n",
        "import textwrap\n",
        "\n",
        "# Set NumPy print options to display numbers in decimal notation\n",
        "np.set_printoptions(suppress=True, precision=6)\n",
        "\n",
        "# Define our texts\n",
        "texts = [\"I like to be in my house\", \n",
        "         \"I enjoy staying home\", \n",
        "         \"The isotope 238u decays to 206pb\"]\n",
        "\n",
        "# Check if GPU is available and use it if possible\n",
        "device = 'cuda' if torch.cuda.is_available() else 'cpu'\n",
        "\n",
        "# Load the model\n",
        "model = SentenceTransformer('all-MiniLM-L6-v2', device=device)\n",
        "\n",
        "# Generate embeddings\n",
        "embeddings = model.encode(texts)\n",
        "\n",
        "# Compute pairwise similarities\n",
        "similarities = cosine_similarity(embeddings)"
      ],
      "id": "42ecea2a"
    },
    {
      "cell_type": "markdown",
      "metadata": {},
      "source": [
        "### How many dimensions in our embedding?"
      ],
      "id": "7908b577-c2d3-4007-a0ab-611a7550f935"
    },
    {
      "cell_type": "code",
      "execution_count": null,
      "metadata": {},
      "outputs": [],
      "source": [
        "print(\"Number of dimensions for sentence 1\")\n",
        "print(len(embeddings[0]))\n",
        "print(\"Number of dimensions for sentence 2\")\n",
        "print(len(embeddings[1]))\n",
        "print(\"Number of dimensions for sentence 3\")\n",
        "print(len(embeddings[2]))"
      ],
      "id": "4e14ad0a"
    },
    {
      "cell_type": "markdown",
      "metadata": {},
      "source": [
        "### The embedding for ‘I like to be in my house’"
      ],
      "id": "c05a7372-3a1e-4d05-a1a3-80beb8ef5d8c"
    },
    {
      "cell_type": "code",
      "execution_count": null,
      "metadata": {},
      "outputs": [],
      "source": [
        "print(\"This is the embedding for 'I like to be in my house' (first 10 out of 384 entries)\")\n",
        "print(embeddings[0][:10])"
      ],
      "id": "5051f240"
    },
    {
      "cell_type": "markdown",
      "metadata": {},
      "source": [
        "### The embedding for ‘I enjoy staying home’"
      ],
      "id": "3469eeac-1f5b-408f-8403-c9e1537fec0c"
    },
    {
      "cell_type": "code",
      "execution_count": null,
      "metadata": {},
      "outputs": [],
      "source": [
        "print(\"This is the embedding for 'I enjoy staying home' (first 10 out of 384 entries)\")\n",
        "print(embeddings[1][:10])"
      ],
      "id": "89698411"
    },
    {
      "cell_type": "markdown",
      "metadata": {},
      "source": [
        "### The embedding for ‘The isotope 238 decays to 206pb’"
      ],
      "id": "382d51bf-05b9-4dc0-b514-2a23e29fd18e"
    },
    {
      "cell_type": "code",
      "execution_count": null,
      "metadata": {},
      "outputs": [],
      "source": [
        "print(\"This is the embedding for 'The isotope 238 decays to 206pb' (first 10 out of 384 entries)\")\n",
        "print(embeddings[2][:10])"
      ],
      "id": "4d015da5"
    },
    {
      "cell_type": "markdown",
      "metadata": {},
      "source": [
        "### Now we create a heatmap that shows the similarities"
      ],
      "id": "ba94c512-853a-412f-a360-02693681387b"
    },
    {
      "cell_type": "code",
      "execution_count": null,
      "metadata": {},
      "outputs": [],
      "source": [
        "# Create a heatmap\n",
        "plt.figure(figsize=(8, 8))\n",
        "ax = sns.heatmap(similarities, annot=True, cmap='Blues', vmin=0, vmax=1, square=True, fmt='.4f')\n",
        "\n",
        "# Remove x-axis ticks\n",
        "ax.set_xticks([])\n",
        "\n",
        "# Set y-axis tick labels with wrapping\n",
        "wrapped_texts = ['\\n'.join(textwrap.wrap(text, width=20)) for text in texts]\n",
        "ax.set_yticks(np.arange(len(texts)) + 0.5)\n",
        "ax.set_yticklabels(wrapped_texts, rotation=0, ha='right')\n",
        "\n",
        "# Add wrapped x-axis labels at the bottom\n",
        "ax.set_xlabel('')\n",
        "plt.xticks([])\n",
        "for i, text in enumerate(texts):\n",
        "    wrapped_text = '\\n'.join(textwrap.wrap(text, width=20))\n",
        "    plt.text(i + 0.5, len(texts) + 0.1, wrapped_text,\n",
        "             horizontalalignment='center',\n",
        "             verticalalignment='bottom',\n",
        "             rotation=0,\n",
        "             fontsize=10)\n",
        "\n",
        "# Adjust the bottom margin to accommodate wrapped labels\n",
        "plt.title('Sentence Similarities')\n",
        "plt.tight_layout()\n",
        "plt.subplots_adjust(bottom=0.2)  # Increase bottom margin\n",
        "plt.show()"
      ],
      "id": "a5af957f"
    }
  ],
  "nbformat": 4,
  "nbformat_minor": 5,
  "metadata": {
    "kernelspec": {
      "name": "python3",
      "display_name": "Python 3 (ipykernel)",
      "language": "python"
    }
  }
}