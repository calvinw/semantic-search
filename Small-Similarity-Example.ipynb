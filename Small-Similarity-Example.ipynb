{
  "cells": [
    {
      "cell_type": "markdown",
      "metadata": {},
      "source": [
        "#"
      ],
      "id": "0fed82cb-880c-4037-8963-4546be5961e7"
    },
    {
      "cell_type": "code",
      "execution_count": null,
      "metadata": {},
      "outputs": [],
      "source": [
        "import torch\n",
        "from sentence_transformers import SentenceTransformer\n",
        "from sklearn.metrics.pairwise import cosine_similarity\n",
        "import numpy as np\n",
        "\n",
        "# Define our texts\n",
        "texts = [\"I like to be in my house\", \n",
        "         \"I enjoy staying home\", \n",
        "         \"the isotope 238u decays to 206pb\"]\n",
        "\n",
        "# Check if GPU is available and use it if possible\n",
        "device = 'cuda' if torch.cuda.is_available() else 'cpu'\n",
        "print(f\"Using {device} for inference.\")\n",
        "\n",
        "# Load the model\n",
        "model = SentenceTransformer('all-MiniLM-L6-v2', device=device)\n",
        "\n",
        "# Generate embeddings\n",
        "embeddings = model.encode(texts)\n",
        "\n",
        "# Compute pairwise similarities\n",
        "similarities = cosine_similarity(embeddings)\n",
        "\n",
        "# Print results in a readable format\n",
        "print(\"\\nPairwise Similarities:\")\n",
        "print(\"\\nSentence pairs:\")\n",
        "for i in range(len(texts)):\n",
        "    for j in range(i+1, len(texts)):\n",
        "        print(f\"\\nSimilarity between:\\n'{texts[i]}' and\\n'{texts[j]}':\\n{similarities[i][j]:.4f}\")\n",
        "\n",
        "# Print full similarity matrix\n",
        "print(\"\\nFull similarity matrix:\")\n",
        "print(np.round(similarities, 4))"
      ],
      "id": "e36b5e66"
    },
    {
      "cell_type": "markdown",
      "metadata": {},
      "source": [
        "![](https://calvinw.github.io/semantic-search/similarity-visualize.webp)"
      ],
      "id": "34b223eb-48db-4212-bd6d-78fccfaa727e"
    }
  ],
  "nbformat": 4,
  "nbformat_minor": 5,
  "metadata": {
    "kernelspec": {
      "name": "python3",
      "display_name": "Python 3 (ipykernel)",
      "language": "python"
    }
  }
}