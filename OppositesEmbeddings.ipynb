{
  "cells": [
    {
      "cell_type": "markdown",
      "metadata": {},
      "source": [
        "# Plotting Embeddings and Heatmaps for Opposite Sentences\n",
        "\n",
        "## Plotting Embeddings and Heatmaps for Opposite Sentences\n",
        "\n",
        "First, we’ll import the necessary libraries and create functions to plot\n",
        "embeddings and heatmaps for our opposite sentences example."
      ],
      "id": "68805581-55e1-4e99-a88e-9ac98834ffde"
    },
    {
      "cell_type": "code",
      "execution_count": null,
      "metadata": {},
      "outputs": [],
      "source": [
        "from sentence_transformers import SentenceTransformer\n",
        "from sklearn.decomposition import PCA\n",
        "import matplotlib.pyplot as plt\n",
        "from sklearn.cluster import KMeans\n",
        "import seaborn as sns\n",
        "import numpy as np\n",
        "import torch\n",
        "\n",
        "def plot_embedding(phrases, num_clusters):\n",
        "    # Load the model\n",
        "    model = SentenceTransformer('all-MiniLM-L6-v2')\n",
        "\n",
        "    # Generate embeddings\n",
        "    embeddings = model.encode(phrases, convert_to_tensor=True)\n",
        "\n",
        "    # Convert to numpy for PCA and KMeans\n",
        "    embeddings_np = embeddings.cpu().numpy()\n",
        "\n",
        "    # Reduce to 2 dimensions using PCA\n",
        "    pca = PCA(n_components=2)\n",
        "    embeddings_2d = pca.fit_transform(embeddings_np)\n",
        "\n",
        "    # Perform clustering using KMeans\n",
        "    kmeans = KMeans(n_clusters=num_clusters, random_state=42)\n",
        "    cluster_labels = kmeans.fit_predict(embeddings_np)\n",
        "\n",
        "    # Plot the 2D embeddings with clusters\n",
        "    plt.figure(figsize=(10, 8))\n",
        "    colors = ['red', 'blue', 'green', 'purple']\n",
        "    for i, (x, y) in enumerate(embeddings_2d):\n",
        "        plt.scatter(x, y, color=colors[cluster_labels[i]], label=f\"Cluster {cluster_labels[i]}\" if f\"Cluster {cluster_labels[i]}\" not in plt.gca().get_legend_handles_labels()[1] else \"\")\n",
        "        plt.text(x + 0.02, y, phrases[i], fontsize=9)\n",
        "\n",
        "    plt.title(\"2D Visualization of Sentence Embeddings with Clustering\")\n",
        "    plt.xlabel(\"PCA Dimension 1\")\n",
        "    plt.ylabel(\"PCA Dimension 2\")\n",
        "    plt.legend(loc='best', fontsize=8)\n",
        "    plt.grid(True)\n",
        "    plt.axis('equal')\n",
        "    plt.show()\n",
        "\n",
        "    return embeddings, cluster_labels\n",
        "\n",
        "def plot_heatmap(phrases, embeddings, cluster_labels):\n",
        "    # Calculate cosine similarity matrix\n",
        "    #similarity_matrix = util.cos_sim(embeddings, embeddings).cpu().numpy()\n",
        "\n",
        "    # Calculate cosine similarity matrix\n",
        "    similarity_matrix = np.inner(embeddings, embeddings)\n",
        "\n",
        "    # Create a DataFrame for the heatmap\n",
        "    import pandas as pd\n",
        "    df = pd.DataFrame(similarity_matrix, index=phrases, columns=phrases)\n",
        "\n",
        "    # Sort the DataFrame by cluster labels\n",
        "    sorted_indices = np.argsort(cluster_labels)\n",
        "    df = df.iloc[sorted_indices, sorted_indices]\n",
        "\n",
        "    # Plot the heatmap\n",
        "    plt.figure(figsize=(12, 10))\n",
        "    sns.heatmap(df, cmap='YlOrRd', annot=True, fmt=\".2f\", vmin=0, vmax=1)\n",
        "    plt.title(\"Cosine Similarity Heatmap (Sorted by Clusters)\")\n",
        "    plt.tight_layout()\n",
        "    plt.show()\n",
        "\n",
        "    # Print the similarity matrix\n",
        "    # print(\"Similarity Matrix:\")\n",
        "    # print(df)"
      ],
      "id": "4ea1c1c6"
    },
    {
      "cell_type": "markdown",
      "metadata": {},
      "source": [
        "Now, let’s apply these functions to some opposite sentences.\n",
        "\n",
        "## Opposite Sentences Example\n",
        "\n",
        "In this example, we’ve chosen three pairs of opposite sentences:\n",
        "\n",
        "1.  “The movie was excellent and entertaining.” vs “The film was\n",
        "    terrible and boring.”\n",
        "2.  “I absolutely loved the book.” vs “I completely hated the novel.”\n",
        "3.  “The weather is scorching hot today.” vs “It’s freezing cold\n",
        "    outside.”\n",
        "\n",
        "### Opposite Sentences Embeddings"
      ],
      "id": "7bdb5a04-dbf0-4752-82e7-31c17fd11154"
    },
    {
      "cell_type": "code",
      "execution_count": null,
      "metadata": {},
      "outputs": [],
      "source": [
        "# Opposite sentences\n",
        "phrases = [\n",
        "    \"The movie was excellent and entertaining.\",\n",
        "    \"The film was terrible and boring.\",\n",
        "    \"I absolutely loved the book.\",\n",
        "    \"I completely hated the novel.\",\n",
        "    \"The weather is scorching hot today.\",\n",
        "    \"It's freezing cold outside.\"\n",
        "]\n",
        "\n",
        "embeddings, cluster_labels = plot_embedding(phrases, 3)"
      ],
      "id": "9a7bad31"
    },
    {
      "cell_type": "markdown",
      "metadata": {},
      "source": [
        "### Opposite Sentences Heatmap"
      ],
      "id": "93fb827d-af06-4ce7-a7c0-49a0954449f3"
    },
    {
      "cell_type": "code",
      "execution_count": null,
      "metadata": {},
      "outputs": [],
      "source": [
        "plot_heatmap(phrases, embeddings, cluster_labels)"
      ],
      "id": "9d57a822"
    },
    {
      "cell_type": "markdown",
      "metadata": {},
      "source": [
        "The embedding plot should show these pairs clustered separately, while\n",
        "the heatmap should reveal high similarity within each pair and lower\n",
        "similarity between opposite pairs."
      ],
      "id": "4131a715-6d75-413b-88ae-2663518fa5f1"
    }
  ],
  "nbformat": 4,
  "nbformat_minor": 5,
  "metadata": {
    "kernelspec": {
      "name": "python3",
      "display_name": "Python 3 (ipykernel)",
      "language": "python"
    }
  }
}