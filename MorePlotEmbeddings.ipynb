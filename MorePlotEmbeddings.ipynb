{
  "cells": [
    {
      "cell_type": "markdown",
      "metadata": {},
      "source": [
        "# More Plotting Embeddings and Heatmaps\n",
        "\n",
        "## More Plotting Embeddings and Heatmaps\n",
        "\n",
        "First, we’ll import the necessary libraries and create functions to plot\n",
        "embeddings and heatmaps for some examples"
      ],
      "id": "62bee34c-bff0-44a1-87c2-b06c75f66793"
    },
    {
      "cell_type": "code",
      "execution_count": null,
      "metadata": {},
      "outputs": [],
      "source": [
        "from sentence_transformers import SentenceTransformer\n",
        "from sklearn.decomposition import PCA\n",
        "import matplotlib.pyplot as plt\n",
        "from sklearn.cluster import KMeans\n",
        "import seaborn as sns\n",
        "import numpy as np\n",
        "\n",
        "def plot_embedding(phrases, num_clusters):\n",
        "    # Load the model\n",
        "    model = SentenceTransformer('all-MiniLM-L6-v2')\n",
        "\n",
        "    # Generate embeddings\n",
        "    embeddings = model.encode(phrases)\n",
        "\n",
        "    # Reduce to 2 dimensions using PCA\n",
        "    pca = PCA(n_components=2)\n",
        "    embeddings_2d = pca.fit_transform(embeddings)\n",
        "\n",
        "    # Perform clustering using KMeans\n",
        "    kmeans = KMeans(n_clusters=num_clusters, random_state=42)\n",
        "    cluster_labels = kmeans.fit_predict(embeddings)\n",
        "\n",
        "    # Plot the 2D embeddings with clusters\n",
        "    plt.figure(figsize=(10, 8))\n",
        "    colors = ['red', 'blue', 'green', 'purple']\n",
        "    for i, (x, y) in enumerate(embeddings_2d):\n",
        "        plt.scatter(x, y, color=colors[cluster_labels[i]], label=f\"Cluster {cluster_labels[i]}\" if f\"Cluster {cluster_labels[i]}\" not in plt.gca().get_legend_handles_labels()[1] else \"\")\n",
        "        plt.text(x + 0.02, y, phrases[i], fontsize=9)\n",
        "\n",
        "    plt.title(\"2D Visualization of Sentence Embeddings with Clustering\")\n",
        "    plt.xlabel(\"PCA Dimension 1\")\n",
        "    plt.ylabel(\"PCA Dimension 2\")\n",
        "    plt.legend(loc='best', fontsize=8)\n",
        "    plt.grid(True)\n",
        "    plt.axis('equal')\n",
        "    plt.show()\n",
        "\n",
        "    return embeddings, cluster_labels\n",
        "\n",
        "def plot_heatmap(phrases, embeddings, cluster_labels):\n",
        "    # Calculate cosine similarity matrix\n",
        "    similarity_matrix = np.inner(embeddings, embeddings)\n",
        "\n",
        "    # Create a DataFrame for the heatmap\n",
        "    import pandas as pd\n",
        "    df = pd.DataFrame(similarity_matrix, index=phrases, columns=phrases)\n",
        "\n",
        "    # Sort the DataFrame by cluster labels\n",
        "    sorted_indices = np.argsort(cluster_labels)\n",
        "    df = df.iloc[sorted_indices, sorted_indices]\n",
        "\n",
        "    # Plot the heatmap\n",
        "    plt.figure(figsize=(12, 10))\n",
        "    sns.heatmap(df, cmap='YlOrRd', annot=False)\n",
        "    plt.title(\"Cosine Similarity Heatmap (Sorted by Clusters)\")\n",
        "    plt.tight_layout()\n",
        "    plt.show()"
      ],
      "id": "70855b37"
    },
    {
      "cell_type": "markdown",
      "metadata": {},
      "source": [
        "Next, we’ll apply these functions to our examples. You are to dream up\n",
        "some examples using either you imagination or a chatbot.\n",
        "\n",
        "## Example 1: 4 Sentences Similar, 1 Sentence Different\n",
        "\n",
        "### Embeddings for Example 1\n",
        "\n",
        "Fill in the CODE below with your 5 sentences"
      ],
      "id": "e42cc8a0-7e47-4293-bc3c-78f96c139fcb"
    },
    {
      "cell_type": "code",
      "execution_count": null,
      "metadata": {},
      "outputs": [],
      "source": [
        "# Simple Phrases\n",
        "phrases = [\n",
        "   CODE\n",
        "]\n",
        "\n",
        "embeddings, cluster_labels = plot_embedding(phrases, 2)"
      ],
      "id": "5c5780f8"
    },
    {
      "cell_type": "markdown",
      "metadata": {},
      "source": [
        "### HeatMap for Example 1"
      ],
      "id": "4e167084-561c-44e2-8256-c7ccabf79a64"
    },
    {
      "cell_type": "code",
      "execution_count": null,
      "metadata": {},
      "outputs": [],
      "source": [
        "plot_heatmap(phrases, embeddings, cluster_labels)"
      ],
      "id": "94d34ad3"
    },
    {
      "cell_type": "markdown",
      "metadata": {},
      "source": [
        "## Example 2: Invent 3 items each for 2 different categories\n",
        "\n",
        "### Embeddings for Example 2\n",
        "\n",
        "Fill in the CODE below with your 6 sentences"
      ],
      "id": "d897b7d6-e00c-4623-9dc1-dcdea630ea0a"
    },
    {
      "cell_type": "code",
      "execution_count": null,
      "metadata": {},
      "outputs": [],
      "source": [
        "phrases = [\n",
        "   CODE\n",
        "]\n",
        "\n",
        "embeddings, cluster_labels = plot_embedding(phrases, 2)"
      ],
      "id": "aa024994"
    },
    {
      "cell_type": "markdown",
      "metadata": {},
      "source": [
        "### Heatmap for Example 2"
      ],
      "id": "921145c3-eca8-4ec2-9b21-6239e486b8a4"
    },
    {
      "cell_type": "code",
      "execution_count": null,
      "metadata": {},
      "outputs": [],
      "source": [
        "plot_heatmap(phrases, embeddings, cluster_labels)"
      ],
      "id": "e579926b"
    },
    {
      "cell_type": "markdown",
      "metadata": {},
      "source": [
        "## Example 3: 5 items each for 3 different categories\n",
        "\n",
        "### Embeddings for Example 3\n",
        "\n",
        "Fill in the CODE below with your 15 sentences"
      ],
      "id": "fc7c6cab-a3fb-4e8d-9988-932814f79721"
    },
    {
      "cell_type": "code",
      "execution_count": null,
      "metadata": {},
      "outputs": [],
      "source": [
        "phrases = [\n",
        "   CODE\n",
        "]\n",
        "\n",
        "\n",
        "embeddings, cluster_labels = plot_embedding(phrases, 3)"
      ],
      "id": "d278b4f4"
    },
    {
      "cell_type": "markdown",
      "metadata": {},
      "source": [
        "### Heatmap for Example 3"
      ],
      "id": "e2ddcca8-46e7-4edf-b83b-9c25897619cf"
    },
    {
      "cell_type": "code",
      "execution_count": null,
      "metadata": {},
      "outputs": [],
      "source": [
        "plot_heatmap(phrases, embeddings, cluster_labels)"
      ],
      "id": "e97ed408"
    }
  ],
  "nbformat": 4,
  "nbformat_minor": 5,
  "metadata": {
    "kernelspec": {
      "name": "python3",
      "display_name": "Python 3 (ipykernel)",
      "language": "python"
    }
  }
}