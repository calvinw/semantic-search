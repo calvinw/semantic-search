{
  "cells": [
    {
      "cell_type": "markdown",
      "metadata": {},
      "source": [
        "# More Plotting Embeddings and Heatmaps\n",
        "\n",
        "## More Plotting Embeddings and Heatmaps\n",
        "\n",
        "First, we’ll import the necessary libraries and create functions to plot\n",
        "embeddings and heatmaps for some examples"
      ],
      "id": "1fa95b39-0525-4a2e-a796-6bcc282ff3cd"
    },
    {
      "cell_type": "code",
      "execution_count": null,
      "metadata": {},
      "outputs": [],
      "source": [
        "from sentence_transformers import SentenceTransformer\n",
        "from sklearn.decomposition import PCA\n",
        "import matplotlib.pyplot as plt\n",
        "from sklearn.cluster import KMeans\n",
        "import seaborn as sns\n",
        "import numpy as np\n",
        "\n",
        "def plot_embedding(phrases, num_clusters):\n",
        "    # Load the model\n",
        "    model = SentenceTransformer('all-MiniLM-L6-v2')\n",
        "\n",
        "    # Generate embeddings\n",
        "    embeddings = model.encode(phrases)\n",
        "\n",
        "    # Reduce to 2 dimensions using PCA\n",
        "    pca = PCA(n_components=2)\n",
        "    embeddings_2d = pca.fit_transform(embeddings)\n",
        "\n",
        "    # Perform clustering using KMeans\n",
        "    kmeans = KMeans(n_clusters=num_clusters, random_state=42)\n",
        "    cluster_labels = kmeans.fit_predict(embeddings)\n",
        "\n",
        "    # Plot the 2D embeddings with clusters\n",
        "    plt.figure(figsize=(10, 8))\n",
        "    colors = ['red', 'blue', 'green', 'purple']\n",
        "    for i, (x, y) in enumerate(embeddings_2d):\n",
        "        plt.scatter(x, y, color=colors[cluster_labels[i]], label=f\"Cluster {cluster_labels[i]}\" if f\"Cluster {cluster_labels[i]}\" not in plt.gca().get_legend_handles_labels()[1] else \"\")\n",
        "        plt.text(x + 0.02, y, phrases[i], fontsize=9)\n",
        "\n",
        "    plt.title(\"2D Visualization of Sentence Embeddings with Clustering\")\n",
        "    plt.xlabel(\"PCA Dimension 1\")\n",
        "    plt.ylabel(\"PCA Dimension 2\")\n",
        "    plt.legend(loc='best', fontsize=8)\n",
        "    plt.grid(True)\n",
        "    plt.axis('equal')\n",
        "    plt.show()\n",
        "\n",
        "    return embeddings, cluster_labels\n",
        "\n",
        "def plot_heatmap(phrases, embeddings, cluster_labels):\n",
        "    # Calculate cosine similarity matrix\n",
        "    similarity_matrix = np.inner(embeddings, embeddings)\n",
        "\n",
        "    # Create a DataFrame for the heatmap\n",
        "    import pandas as pd\n",
        "    df = pd.DataFrame(similarity_matrix, index=phrases, columns=phrases)\n",
        "\n",
        "    # Sort the DataFrame by cluster labels\n",
        "    sorted_indices = np.argsort(cluster_labels)\n",
        "    df = df.iloc[sorted_indices, sorted_indices]\n",
        "\n",
        "    # Plot the heatmap\n",
        "    plt.figure(figsize=(12, 10))\n",
        "    sns.heatmap(df, cmap='YlOrRd', annot=False)\n",
        "    plt.title(\"Cosine Similarity Heatmap (Sorted by Clusters)\")\n",
        "    plt.tight_layout()\n",
        "    plt.show()"
      ],
      "id": "7a3869c4"
    },
    {
      "cell_type": "markdown",
      "metadata": {},
      "source": [
        "Next, we’ll apply these functions to our examples. You are to dream up\n",
        "some examples using either you imagination or a chatbot.\n",
        "\n",
        "## Example 1: 4 Sentences Similar, 1 Sentence Different\n",
        "\n",
        "### Embeddings for Example 1\n",
        "\n",
        "Fill in the CODE below with your 5 sentences"
      ],
      "id": "888353dc-c4c2-4623-b464-8b9fd7bed218"
    },
    {
      "cell_type": "code",
      "execution_count": null,
      "metadata": {},
      "outputs": [],
      "source": [
        "# Simple Phrases\n",
        "phrases = [\n",
        "   CODE\n",
        "]\n",
        "\n",
        "embeddings, cluster_labels = plot_embedding(phrases, 2)"
      ],
      "id": "094af0e2"
    },
    {
      "cell_type": "markdown",
      "metadata": {},
      "source": [
        "### HeatMap for Example 1"
      ],
      "id": "74476f19-31d8-4fd0-87a7-9ca9ac17a9b3"
    },
    {
      "cell_type": "code",
      "execution_count": null,
      "metadata": {},
      "outputs": [],
      "source": [
        "plot_heatmap(phrases, embeddings, cluster_labels)"
      ],
      "id": "284c4a85"
    },
    {
      "cell_type": "markdown",
      "metadata": {},
      "source": [
        "## Example 2: Invent 3 items each for 2 different categories\n",
        "\n",
        "### Embeddings for Example 2\n",
        "\n",
        "Fill in the CODE below with your 6 sentences"
      ],
      "id": "c27cf407-b0c9-44c4-85f7-ea6ca9fe892f"
    },
    {
      "cell_type": "code",
      "execution_count": null,
      "metadata": {},
      "outputs": [],
      "source": [
        "phrases = [\n",
        "   CODE\n",
        "]\n",
        "\n",
        "embeddings, cluster_labels = plot_embedding(phrases, 2)"
      ],
      "id": "fbb7b6c6"
    },
    {
      "cell_type": "markdown",
      "metadata": {},
      "source": [
        "### Heatmap for Example 2"
      ],
      "id": "b8d0cadd-7a01-41af-a422-6968d8e42d8b"
    },
    {
      "cell_type": "code",
      "execution_count": null,
      "metadata": {},
      "outputs": [],
      "source": [
        "plot_heatmap(phrases, embeddings, cluster_labels)"
      ],
      "id": "3308954c"
    },
    {
      "cell_type": "markdown",
      "metadata": {},
      "source": [
        "## Example 3: 5 items each for 3 different categories\n",
        "\n",
        "### Embeddings for Example 3\n",
        "\n",
        "Fill in the CODE below with your 15 sentences"
      ],
      "id": "a73f68f6-b901-4f04-882c-4408022dc76c"
    },
    {
      "cell_type": "code",
      "execution_count": null,
      "metadata": {},
      "outputs": [],
      "source": [
        "phrases = [\n",
        "   CODE\n",
        "]\n",
        "\n",
        "\n",
        "embeddings, cluster_labels = plot_embedding(phrases, 3)"
      ],
      "id": "4ea6d8ef"
    },
    {
      "cell_type": "markdown",
      "metadata": {},
      "source": [
        "### Heatmap for Example 3"
      ],
      "id": "ca95b309-9b73-48cc-81a2-301771e3f455"
    },
    {
      "cell_type": "code",
      "execution_count": null,
      "metadata": {},
      "outputs": [],
      "source": [
        "plot_heatmap(phrases, embeddings, cluster_labels)"
      ],
      "id": "534eb4c7"
    }
  ],
  "nbformat": 4,
  "nbformat_minor": 5,
  "metadata": {
    "kernelspec": {
      "name": "python3",
      "display_name": "Python 3 (ipykernel)",
      "language": "python"
    }
  }
}