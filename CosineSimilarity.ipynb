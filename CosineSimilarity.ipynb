{
  "cells": [
    {
      "cell_type": "markdown",
      "metadata": {},
      "source": [
        "# Cosine Similarities\n",
        "\n",
        "# Luxury vs Comfort\n",
        "\n",
        "## Lets Plot Three Items\n",
        "\n",
        "-   Evening Gown\n",
        "-   Designer shoes\n",
        "-   Cozy slippers\n",
        "\n",
        "on two axes which represent Luxury and Comfort"
      ],
      "id": "cc33db40-0ae1-4530-872c-135c6250ba59"
    },
    {
      "cell_type": "code",
      "execution_count": null,
      "metadata": {},
      "outputs": [],
      "source": [
        "import numpy as np\n",
        "import matplotlib.pyplot as plt\n",
        "\n",
        "# Define our product vectors\n",
        "product_a = np.array([8, 2])  # Evening Gown \n",
        "product_b = np.array([7, 3])  # Designer shoes\n",
        "product_c = np.array([2, 9])  # Cozy slippers\n",
        "\n",
        "# Create the plot\n",
        "plt.figure(figsize=(10, 10))\n",
        "\n",
        "# Plot vectors as arrows from origin\n",
        "plt.quiver(0, 0, product_a[0], product_a[1], angles='xy', scale_units='xy', scale=1, color='blue', label='Product A')\n",
        "plt.quiver(0, 0, product_b[0], product_b[1], angles='xy', scale_units='xy', scale=1, color='red', label='Product B')\n",
        "plt.quiver(0, 0, product_c[0], product_c[1], angles='xy', scale_units='xy', scale=1, color='green', label='Product C')\n",
        "\n",
        "# Add simple labels at the end of each vector\n",
        "plt.annotate(f'Evening Gown (8, 2)', \n",
        "            xy=(product_a[0], product_a[1]), \n",
        "            xytext=(10, 0), \n",
        "            textcoords='offset points', \n",
        "            ha='left',\n",
        "            bbox=dict(boxstyle='round,pad=0.5', fc='white', ec='blue', alpha=0.8))\n",
        "\n",
        "plt.annotate(f'Designer Shoes (7, 3)', \n",
        "            xy=(product_b[0], product_b[1]), \n",
        "            xytext=(10, 0), \n",
        "            textcoords='offset points', \n",
        "            ha='left',\n",
        "            bbox=dict(boxstyle='round,pad=0.5', fc='white', ec='red', alpha=0.8))\n",
        "\n",
        "plt.annotate(f'Cozy Slippers (2, 9)', \n",
        "            xy=(product_c[0], product_c[1]), \n",
        "            xytext=(-20, 10), \n",
        "            textcoords='offset points', \n",
        "            ha='right',\n",
        "            bbox=dict(boxstyle='round,pad=0.5', fc='white', ec='green', alpha=0.8))\n",
        "\n",
        "# Add some visual improvements\n",
        "plt.grid(True, linestyle='--', alpha=0.7)\n",
        "plt.axhline(y=0, color='k', linestyle='-', alpha=0.3)\n",
        "plt.axvline(x=0, color='k', linestyle='-', alpha=0.3)\n",
        "\n",
        "# Set limits and labels\n",
        "plt.xlim(-1, 11)\n",
        "plt.ylim(-1, 11)\n",
        "plt.xlabel('Luxury Score', fontsize=12)\n",
        "plt.ylabel('Comfort Score', fontsize=12)\n",
        "plt.title('Product Vectors: Luxury vs Comfort Scores', fontsize=14)\n",
        "\n",
        "# Show the plot\n",
        "plt.grid(True)\n",
        "plt.show()\n",
        "\n",
        "# Calculate and print cosine similarities separately\n",
        "def cosine_similarity(v1, v2):\n",
        "    return np.dot(v1, v2)/(np.linalg.norm(v1)*np.linalg.norm(v2))"
      ],
      "id": "b61c5ca0"
    },
    {
      "cell_type": "markdown",
      "metadata": {},
      "source": [
        "# The angles between the items\n",
        "\n",
        "Here we print out the angles between the items in this case:"
      ],
      "id": "6a94b9f7-ef21-443f-be62-4224e0059c68"
    },
    {
      "cell_type": "code",
      "execution_count": null,
      "metadata": {},
      "outputs": [],
      "source": [
        "print(\"\\nAngles between vectors (degrees):\")\n",
        "print(f\"Evening Gown & Designer Shoes: {np.degrees(np.arccos(cosine_similarity(product_a, product_b))):.1f}°\")\n",
        "print(f\"Evening Gown & Cozy Slippers: {np.degrees(np.arccos(cosine_similarity(product_a, product_c))):.1f}°\")\n",
        "print(f\"Designer Shoes & Cozy Slippers: {np.degrees(np.arccos(cosine_similarity(product_b, product_c))):.1f}°\")"
      ],
      "id": "09db83ea"
    },
    {
      "cell_type": "markdown",
      "metadata": {},
      "source": [
        "# Cosine similarities\n",
        "\n",
        "Here we print out what is called the *cosine similarity*."
      ],
      "id": "a939a6f0-58f0-4a3c-82cd-1d540cf30583"
    },
    {
      "cell_type": "code",
      "execution_count": null,
      "metadata": {},
      "outputs": [],
      "source": [
        "print(\"\\nCosine Similarities:\")\n",
        "print(f\"Evening Gown & Designer Shoes: {cosine_similarity(product_a, product_b):.3f}\")\n",
        "print(f\"Evening Gown & Cozy Slippers: {cosine_similarity(product_a, product_c):.3f}\")\n",
        "print(f\"Designer Shoes & Cozy Slippers: {cosine_similarity(product_b, product_c):.3f}\")"
      ],
      "id": "6d4912a4"
    },
    {
      "cell_type": "markdown",
      "metadata": {},
      "source": [
        "Above we print out what is called the *cosine similarity*.\n",
        "\n",
        "The cosine similarity is between -1 and 1\n",
        "\n",
        "-   If the vectors are in the same direction roughly, their cosine\n",
        "    similarity is near +1.\n",
        "-   If the vectors close to perpendicular, their cosine similarity is\n",
        "    near 0.\n",
        "-   If the vectors are in the oppsite direction their cosine similarity\n",
        "    is near -1."
      ],
      "id": "c593213a-8be7-4e72-8c3f-b01b05268257"
    }
  ],
  "nbformat": 4,
  "nbformat_minor": 5,
  "metadata": {
    "kernelspec": {
      "name": "python3",
      "display_name": "Python 3 (ipykernel)",
      "language": "python"
    }
  }
}