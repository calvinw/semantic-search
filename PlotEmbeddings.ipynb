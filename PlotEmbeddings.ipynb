{
  "cells": [
    {
      "cell_type": "markdown",
      "metadata": {},
      "source": [
        "# Plotting Embeddings and Heatmaps\n",
        "\n",
        "## Plotting Embeddings and Heatmaps\n",
        "\n",
        "First, we’ll import the necessary libraries and create functions to plot\n",
        "embeddings and heatmaps for some examples"
      ],
      "id": "21d220e6-f460-424f-a64f-d7af010c7bfc"
    },
    {
      "cell_type": "code",
      "execution_count": null,
      "metadata": {},
      "outputs": [],
      "source": [
        "from sentence_transformers import SentenceTransformer\n",
        "from sklearn.decomposition import PCA\n",
        "import matplotlib.pyplot as plt\n",
        "from sklearn.cluster import KMeans\n",
        "import seaborn as sns\n",
        "import numpy as np\n",
        "\n",
        "def plot_embedding(phrases, num_clusters):\n",
        "    # Load the model\n",
        "    model = SentenceTransformer('all-MiniLM-L6-v2')\n",
        "\n",
        "    # Generate embeddings\n",
        "    embeddings = model.encode(phrases)\n",
        "\n",
        "    # Reduce to 2 dimensions using PCA\n",
        "    pca = PCA(n_components=2)\n",
        "    embeddings_2d = pca.fit_transform(embeddings)\n",
        "\n",
        "    # Perform clustering using KMeans\n",
        "    kmeans = KMeans(n_clusters=num_clusters, random_state=42)\n",
        "    cluster_labels = kmeans.fit_predict(embeddings)\n",
        "\n",
        "    # Plot the 2D embeddings with clusters\n",
        "    plt.figure(figsize=(10, 8))\n",
        "    colors = ['red', 'blue', 'green', 'purple']\n",
        "    for i, (x, y) in enumerate(embeddings_2d):\n",
        "        plt.scatter(x, y, color=colors[cluster_labels[i]], label=f\"Cluster {cluster_labels[i]}\" if f\"Cluster {cluster_labels[i]}\" not in plt.gca().get_legend_handles_labels()[1] else \"\")\n",
        "        plt.text(x + 0.02, y, phrases[i], fontsize=9)\n",
        "\n",
        "    plt.title(\"2D Visualization of Sentence Embeddings with Clustering\")\n",
        "    plt.xlabel(\"PCA Dimension 1\")\n",
        "    plt.ylabel(\"PCA Dimension 2\")\n",
        "    plt.legend(loc='best', fontsize=8)\n",
        "    plt.grid(True)\n",
        "    plt.axis('equal')\n",
        "    plt.show()\n",
        "\n",
        "    return embeddings, cluster_labels\n",
        "\n",
        "def plot_heatmap(phrases, embeddings, cluster_labels):\n",
        "    # Calculate cosine similarity matrix\n",
        "    similarity_matrix = np.inner(embeddings, embeddings)\n",
        "\n",
        "    # Create a DataFrame for the heatmap\n",
        "    import pandas as pd\n",
        "    df = pd.DataFrame(similarity_matrix, index=phrases, columns=phrases)\n",
        "\n",
        "    # Sort the DataFrame by cluster labels\n",
        "    sorted_indices = np.argsort(cluster_labels)\n",
        "    df = df.iloc[sorted_indices, sorted_indices]\n",
        "\n",
        "    # Plot the heatmap\n",
        "    plt.figure(figsize=(12, 10))\n",
        "    sns.heatmap(df, cmap='YlOrRd', annot=False)\n",
        "    plt.title(\"Cosine Similarity Heatmap (Sorted by Clusters)\")\n",
        "    plt.tight_layout()\n",
        "    plt.show()"
      ],
      "id": "bab3978e"
    },
    {
      "cell_type": "markdown",
      "metadata": {},
      "source": [
        "Next, we’ll apply these functions to our examples.\n",
        "\n",
        "## I Like To Be In My House Example\n",
        "\n",
        "### I like my House Embeddings"
      ],
      "id": "86e2e807-5d37-4ba2-9eff-64cf8d0aa185"
    },
    {
      "cell_type": "code",
      "execution_count": null,
      "metadata": {},
      "outputs": [],
      "source": [
        "# Simple Phrases\n",
        "phrases = [\n",
        "    \"I like to be in my house\", \n",
        "    \"I enjoy staying home\", \n",
        "    \"I like spending time where I live.\", \n",
        "    \"I love sleeping all day.\",\n",
        "    \"The isotope 238u decays to 206pb\"\n",
        "]\n",
        "\n",
        "embeddings, cluster_labels = plot_embedding(phrases, 2)"
      ],
      "id": "9ee0660f"
    },
    {
      "cell_type": "markdown",
      "metadata": {},
      "source": [
        "### I like my House HeatMap"
      ],
      "id": "bdd94c3b-83bf-424b-bfc3-bd9528d39139"
    },
    {
      "cell_type": "code",
      "execution_count": null,
      "metadata": {},
      "outputs": [],
      "source": [
        "plot_heatmap(phrases, embeddings, cluster_labels)"
      ],
      "id": "48d37c1c"
    },
    {
      "cell_type": "markdown",
      "metadata": {},
      "source": [
        "## Shoes and Dresses\n",
        "\n",
        "### Shoes and Dresses Items Embeddings"
      ],
      "id": "835d7a86-44cb-4186-92f4-d729d30df43c"
    },
    {
      "cell_type": "code",
      "execution_count": null,
      "metadata": {},
      "outputs": [],
      "source": [
        "phrases = [\n",
        "    \"Cocktail sequin dress\",\n",
        "    \"Running sneakers\",\n",
        "    \"Floral sundress\",\n",
        "    \"Maxi wrap dress\",\n",
        "    \"Strappy sandals\",\n",
        "    \"Little black dress\",\n",
        "    \"Leather ankle boots\"\n",
        "]\n",
        "\n",
        "embeddings, cluster_labels = plot_embedding(phrases, 2)"
      ],
      "id": "c848d433"
    },
    {
      "cell_type": "markdown",
      "metadata": {},
      "source": [
        "### Shoes and Dresses"
      ],
      "id": "9b8a62c8-741e-4d48-b757-a4191d14a50b"
    },
    {
      "cell_type": "code",
      "execution_count": null,
      "metadata": {},
      "outputs": [],
      "source": [
        "plot_heatmap(phrases, embeddings, cluster_labels)"
      ],
      "id": "77303336"
    },
    {
      "cell_type": "markdown",
      "metadata": {},
      "source": [
        "## Fashion and Clothing Items\n",
        "\n",
        "In this example we pick a few more examples to include.\n",
        "\n",
        "### Fashion and Clothing Items Embeddings"
      ],
      "id": "70539c38-8ac7-4441-ba02-44b4869b9e51"
    },
    {
      "cell_type": "code",
      "execution_count": null,
      "metadata": {},
      "outputs": [],
      "source": [
        "phrases = [\n",
        "    \"Diamond pendant necklace\",\n",
        "    \"Gold charm bracelet\",\n",
        "    \"Pearl drop earrings\",\n",
        "    \"Vintage brooch pin\",\n",
        "    \"Silver wrist watch\",\n",
        "    \"Evening gown\",\n",
        "    \"Summer midi dress\",\n",
        "    \"Wrap jersey dress\",\n",
        "    \"Cocktail party dress\",\n",
        "    \"Floral maxi dress\",\n",
        "    \"Ballet flats\",\n",
        "    \"High heel pumps\",\n",
        "    \"Leather boots\",\n",
        "    \"Platform sneakers\",\n",
        "    \"Strappy sandals\"\n",
        "]\n",
        "\n",
        "\n",
        "embeddings, cluster_labels = plot_embedding(phrases, 3)"
      ],
      "id": "cf702b07"
    },
    {
      "cell_type": "markdown",
      "metadata": {},
      "source": [
        "### Fashion and Clothing Items Heatmap"
      ],
      "id": "06e5ae65-b5fa-4130-8a35-4ee692a7124f"
    },
    {
      "cell_type": "code",
      "execution_count": null,
      "metadata": {},
      "outputs": [],
      "source": [
        "plot_heatmap(phrases, embeddings, cluster_labels)"
      ],
      "id": "cdbe3a9b"
    }
  ],
  "nbformat": 4,
  "nbformat_minor": 5,
  "metadata": {
    "kernelspec": {
      "name": "python3",
      "display_name": "Python 3 (ipykernel)",
      "language": "python"
    }
  }
}