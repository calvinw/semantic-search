{
  "cells": [
    {
      "cell_type": "markdown",
      "metadata": {},
      "source": [
        "# Plotting Embeddings and Heatmaps\n",
        "\n",
        "## Plotting Embeddings and Heatmaps\n",
        "\n",
        "First, we’ll import the necessary libraries and create functions to plot\n",
        "embeddings and heatmaps for some examples"
      ],
      "id": "1a7fb0b7-ae73-432f-a96b-69e5866f357d"
    },
    {
      "cell_type": "code",
      "execution_count": null,
      "metadata": {},
      "outputs": [],
      "source": [
        "from sentence_transformers import SentenceTransformer\n",
        "from sklearn.decomposition import PCA\n",
        "import matplotlib.pyplot as plt\n",
        "from sklearn.cluster import KMeans\n",
        "import seaborn as sns\n",
        "import numpy as np\n",
        "\n",
        "def plot_embedding(phrases, num_clusters):\n",
        "    # Load the model\n",
        "    model = SentenceTransformer('all-MiniLM-L6-v2')\n",
        "\n",
        "    # Generate embeddings\n",
        "    embeddings = model.encode(phrases)\n",
        "\n",
        "    # Reduce to 2 dimensions using PCA\n",
        "    pca = PCA(n_components=2)\n",
        "    embeddings_2d = pca.fit_transform(embeddings)\n",
        "\n",
        "    # Perform clustering using KMeans\n",
        "    kmeans = KMeans(n_clusters=num_clusters, random_state=42)\n",
        "    cluster_labels = kmeans.fit_predict(embeddings)\n",
        "\n",
        "    # Plot the 2D embeddings with clusters\n",
        "    plt.figure(figsize=(10, 8))\n",
        "    colors = ['red', 'blue', 'green', 'purple']\n",
        "    for i, (x, y) in enumerate(embeddings_2d):\n",
        "        plt.scatter(x, y, color=colors[cluster_labels[i]], label=f\"Cluster {cluster_labels[i]}\" if f\"Cluster {cluster_labels[i]}\" not in plt.gca().get_legend_handles_labels()[1] else \"\")\n",
        "        plt.text(x + 0.02, y, phrases[i], fontsize=9)\n",
        "\n",
        "    plt.title(\"2D Visualization of Sentence Embeddings with Clustering\")\n",
        "    plt.xlabel(\"PCA Dimension 1\")\n",
        "    plt.ylabel(\"PCA Dimension 2\")\n",
        "    plt.legend(loc='best', fontsize=8)\n",
        "    plt.grid(True)\n",
        "    plt.axis('equal')\n",
        "    plt.show()\n",
        "\n",
        "    return embeddings, cluster_labels\n",
        "\n",
        "def plot_heatmap(phrases, embeddings, cluster_labels):\n",
        "    # Calculate cosine similarity matrix\n",
        "    similarity_matrix = np.inner(embeddings, embeddings)\n",
        "\n",
        "    # Create a DataFrame for the heatmap\n",
        "    import pandas as pd\n",
        "    df = pd.DataFrame(similarity_matrix, index=phrases, columns=phrases)\n",
        "\n",
        "    # Sort the DataFrame by cluster labels\n",
        "    sorted_indices = np.argsort(cluster_labels)\n",
        "    df = df.iloc[sorted_indices, sorted_indices]\n",
        "\n",
        "    # Plot the heatmap\n",
        "    plt.figure(figsize=(12, 10))\n",
        "    sns.heatmap(df, cmap='YlOrRd', annot=False)\n",
        "    plt.title(\"Cosine Similarity Heatmap (Sorted by Clusters)\")\n",
        "    plt.tight_layout()\n",
        "    plt.show()"
      ],
      "id": "e647dd0c"
    },
    {
      "cell_type": "markdown",
      "metadata": {},
      "source": [
        "Next, we’ll apply these functions to our examples.\n",
        "\n",
        "## I Like To Be In My House Example\n",
        "\n",
        "### I like my House Embeddings"
      ],
      "id": "e833956f-51f1-4b01-a410-66e3ed87e6ff"
    },
    {
      "cell_type": "code",
      "execution_count": null,
      "metadata": {},
      "outputs": [],
      "source": [
        "# Simple Phrases\n",
        "phrases = [\n",
        "    \"I like to be in my house\", \n",
        "    \"I enjoy staying home\", \n",
        "    \"I like spending time where I live.\", \n",
        "    \"I love sleeping all day.\",\n",
        "    \"The isotope 238u decays to 206pb\"\n",
        "]\n",
        "\n",
        "embeddings, cluster_labels = plot_embedding(phrases, 2)"
      ],
      "id": "7b7cf76a"
    },
    {
      "cell_type": "markdown",
      "metadata": {},
      "source": [
        "### I like my House HeatMap"
      ],
      "id": "4af6c568-c30f-4c39-84ed-5f9a7cf06718"
    },
    {
      "cell_type": "code",
      "execution_count": null,
      "metadata": {},
      "outputs": [],
      "source": [
        "plot_heatmap(phrases, embeddings, cluster_labels)"
      ],
      "id": "9abf54e0"
    },
    {
      "cell_type": "markdown",
      "metadata": {},
      "source": [
        "## Shoes and Dresses\n",
        "\n",
        "### Shoes and Dresses Items Embeddings"
      ],
      "id": "df75e145-0d8a-4597-bf41-71c7e29b555d"
    },
    {
      "cell_type": "code",
      "execution_count": null,
      "metadata": {},
      "outputs": [],
      "source": [
        "phrases = [\n",
        "    \"Cocktail sequin dress\",\n",
        "    \"Running sneakers\",\n",
        "    \"Floral sundress\",\n",
        "    \"Maxi wrap dress\",\n",
        "    \"Strappy sandals\",\n",
        "    \"Little black dress\",\n",
        "    \"Leather ankle boots\"\n",
        "]\n",
        "\n",
        "embeddings, cluster_labels = plot_embedding(phrases, 2)"
      ],
      "id": "0bd1cd78"
    },
    {
      "cell_type": "markdown",
      "metadata": {},
      "source": [
        "### Shoes and Dresses"
      ],
      "id": "67e48b91-0148-4712-aae2-e2e4ac4bc405"
    },
    {
      "cell_type": "code",
      "execution_count": null,
      "metadata": {},
      "outputs": [],
      "source": [
        "plot_heatmap(phrases, embeddings, cluster_labels)"
      ],
      "id": "c4846368"
    },
    {
      "cell_type": "markdown",
      "metadata": {},
      "source": [
        "## Fashion and Clothing Items\n",
        "\n",
        "In this example we pick a few more examples to include.\n",
        "\n",
        "### Fashion and Clothing Items Embeddings"
      ],
      "id": "a13208fa-4234-45a4-bac7-dfc0602a2aef"
    },
    {
      "cell_type": "code",
      "execution_count": null,
      "metadata": {},
      "outputs": [],
      "source": [
        "phrases = [\n",
        "    \"Diamond pendant necklace\",\n",
        "    \"Gold charm bracelet\",\n",
        "    \"Pearl drop earrings\",\n",
        "    \"Vintage brooch pin\",\n",
        "    \"Silver wrist watch\",\n",
        "    \"Evening gown\",\n",
        "    \"Summer midi dress\",\n",
        "    \"Wrap jersey dress\",\n",
        "    \"Cocktail party dress\",\n",
        "    \"Floral maxi dress\",\n",
        "    \"Ballet flats\",\n",
        "    \"High heel pumps\",\n",
        "    \"Leather boots\",\n",
        "    \"Platform sneakers\",\n",
        "    \"Strappy sandals\"\n",
        "]\n",
        "\n",
        "\n",
        "embeddings, cluster_labels = plot_embedding(phrases, 3)"
      ],
      "id": "3ec626da"
    },
    {
      "cell_type": "markdown",
      "metadata": {},
      "source": [
        "### Fashion and Clothing Items Heatmap"
      ],
      "id": "3e9d86bf-fb87-44b0-b2d7-99bc4bc9e78d"
    },
    {
      "cell_type": "code",
      "execution_count": null,
      "metadata": {},
      "outputs": [],
      "source": [
        "plot_heatmap(phrases, embeddings, cluster_labels)"
      ],
      "id": "e0b34a22"
    }
  ],
  "nbformat": 4,
  "nbformat_minor": 5,
  "metadata": {
    "kernelspec": {
      "name": "python3",
      "display_name": "Python 3 (ipykernel)",
      "language": "python"
    }
  }
}