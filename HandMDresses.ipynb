{
  "cells": [
    {
      "cell_type": "markdown",
      "metadata": {},
      "source": [
        "# H&M Dresses\n",
        "\n",
        "# H&M Dresses Dataframe\n",
        "\n",
        "First we take a look at a Dataframe that involves H & M Dresses. We use\n",
        "just 100 in this little sample Dataframe."
      ],
      "id": "7587d3c3-fd35-4771-87f9-8d4fe61c2ed0"
    },
    {
      "cell_type": "code",
      "execution_count": null,
      "metadata": {},
      "outputs": [],
      "source": [
        "import pandas as pd\n",
        "import requests\n",
        "from io import StringIO\n",
        "\n",
        "# Download the CSV\n",
        "url = \"https://calvinw.github.io/semantic-search/hm-dresses-100.csv\"\n",
        "response = requests.get(url)\n",
        "\n",
        "# Read into pandas DataFrame\n",
        "df = pd.read_csv(StringIO(response.text))\n",
        "\n",
        "def analyze_csv(df):\n",
        "    # URL of the CSV file\n",
        "    url = \"https://calvinw.github.io/semantic-search/hm-dresses-100.csv\"\n",
        "    # Basic dataset information\n",
        "    print(\"\\nBasic Information:\")\n",
        "    print(f\"Number of rows: {len(df)}\")\n",
        "    print(f\"Number of columns: {len(df.columns)}\")\n",
        "    \n",
        "    # Column information\n",
        "    print(\"\\nColumn Details:\")\n",
        "    for column in df.columns:\n",
        "        non_null = df[column].count()\n",
        "        dtype = df[column].dtype\n",
        "        unique = df[column].nunique()\n",
        "        print(f\"\\n{column}:\")\n",
        "        print(f\"- Data type: {dtype}\")\n",
        "        print(f\"- Non-null count: {non_null}\")\n",
        "        print(f\"- Unique values: {unique}\")\n",
        "        print(f\"- Sample value: {df[column].iloc[0]}\")\n",
        "    \n",
        "    return df"
      ],
      "id": "547f8c2f"
    },
    {
      "cell_type": "markdown",
      "metadata": {},
      "source": [
        "# DataSet Information"
      ],
      "id": "ac83dce5-feaa-4135-802f-99497240dfd7"
    },
    {
      "cell_type": "code",
      "execution_count": null,
      "metadata": {},
      "outputs": [],
      "source": [
        "df.info()\n",
        "df.head()"
      ],
      "id": "1593c65b"
    },
    {
      "cell_type": "markdown",
      "metadata": {},
      "source": [
        "What we will do is use the following fields and create a combined field.\n",
        "\n",
        "-   prod_name: The product name.\n",
        "-   product_type_name: The type of the product (e.g., dress, top).\n",
        "-   product_group_name: The broader category that the product belongs to\n",
        "    (e.g., Garment Full body).\n",
        "-   graphical_appearance_name: The graphical appearance (e.g., Solid,\n",
        "    Stripe).\n",
        "-   colour_group_name: The color group (e.g., Dark Grey, Black).\n",
        "-   detail_desc: The detailed description of the product.\n",
        "\n",
        "Lets take a look at just these fields for some of the data:"
      ],
      "id": "2a066ef4-5c8d-4d36-a0db-bf53590f1692"
    },
    {
      "cell_type": "code",
      "execution_count": null,
      "metadata": {},
      "outputs": [],
      "source": [
        "from IPython.display import display, HTML\n",
        "\n",
        "# Select and rename columns\n",
        "columns_mapping = {\n",
        "    'prod_name': 'Product Name',\n",
        "    'product_type_name': 'Product Type',\n",
        "    'product_group_name': 'Product Group',\n",
        "    'graphical_appearance_name': 'Appearance',\n",
        "    'colour_group_name': 'Color Group',\n",
        "    'detail_desc': 'Description'\n",
        "}\n",
        "\n",
        "# Select only the columns we want and rename them\n",
        "selected_df = df[list(columns_mapping.keys())].rename(columns=columns_mapping)\n",
        "\n",
        "# Style the DataFrame for display\n",
        "styled_df = selected_df.style.set_properties(**{\n",
        "    'white-space': 'pre-wrap',\n",
        "    'text-align': 'left'\n",
        "}).set_table_styles([\n",
        "    {'selector': 'th', 'props': [\n",
        "        ('background-color', '#f4f4f4'),\n",
        "        ('color', '#333'),\n",
        "        ('font-weight', 'bold'),\n",
        "        ('text-align', 'left'),\n",
        "        ('padding', '8px')\n",
        "    ]},\n",
        "    {'selector': 'td', 'props': [\n",
        "        ('padding', '8px'),\n",
        "        ('border-bottom', '1px solid #ddd')\n",
        "    ]}\n",
        "])\n",
        "\n",
        "# Display the styled DataFrame\n",
        "display(HTML(\"<h3>H&M Products Catalog</h3>\"))\n",
        "display(styled_df)\n",
        "\n",
        "# Print some summary statistics\n",
        "print(f\"\\nTotal number of products: {len(selected_df)}\")\n",
        "print(\"\\nProduct Types Distribution:\")\n",
        "print(selected_df['Product Type'].value_counts())\n",
        "print(\"\\nColor Groups Distribution:\")\n",
        "print(selected_df['Color Group'].value_counts())"
      ],
      "id": "1e835c9c"
    }
  ],
  "nbformat": 4,
  "nbformat_minor": 5,
  "metadata": {
    "kernelspec": {
      "name": "python3",
      "display_name": "Python 3 (ipykernel)",
      "language": "python"
    }
  }
}