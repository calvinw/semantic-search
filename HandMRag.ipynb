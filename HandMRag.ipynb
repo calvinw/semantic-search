{
  "cells": [
    {
      "cell_type": "markdown",
      "metadata": {},
      "source": [
        "# Rag for H and M"
      ],
      "id": "00fb4cdc-7d31-429b-abcd-16057c1f616e"
    },
    {
      "cell_type": "code",
      "execution_count": null,
      "metadata": {},
      "outputs": [],
      "source": [
        "import numpy as np\n",
        "import pandas as pd \n",
        "from sentence_transformers import SentenceTransformer\n",
        "import time\n",
        "from io import StringIO\n",
        "from io import BytesIO\n",
        "from typing import List, Tuple\n",
        "import requests"
      ],
      "id": "10357cb3"
    },
    {
      "cell_type": "code",
      "execution_count": null,
      "metadata": {},
      "outputs": [],
      "source": [
        "class ProductSearcher:\n",
        "    def __init__(self, embeddings_url: str = \"https://github.com/calvinw/semantic-search/raw/refs/heads/main/product_embeddings.npz\"):\n",
        "        \"\"\"Initialize the searcher with embeddings from GitHub URL.\"\"\"\n",
        "        print(\"Downloading embeddings file from GitHub...\")\n",
        "        try:\n",
        "            response = requests.get(embeddings_url)\n",
        "            response.raise_for_status()\n",
        "            \n",
        "            # Load the embeddings from the downloaded content\n",
        "            print(\"Loading embeddings and model...\")\n",
        "            self.data = np.load(BytesIO(response.content), allow_pickle=True)\n",
        "            self.embeddings = self.data['embeddings']\n",
        "            self.product_names = self.data['product_names']\n",
        "            self.embedding_strings = self.data['embedding_strings']\n",
        "            self.product_codes = self.data['product_codes']\n",
        "            self.article_ids_str = self.data['article_ids_str']\n",
        "            \n",
        "            # Load the model\n",
        "            print(\"Loading sentence transformer model...\")\n",
        "            self.model = SentenceTransformer('all-MiniLM-L6-v2')\n",
        "            print(\"Model loaded successfully!\")\n",
        "            \n",
        "            print(f\"Loaded {len(self.embeddings)} products\")\n",
        "            \n",
        "        except Exception as e:\n",
        "            print(f\"Error in initialization: {e}\")\n",
        "            raise\n",
        "\n",
        "    def get_product_name(self, idx):\n",
        "        return self.product_names[idx]\n",
        "\n",
        "    def get_embedding_string(self, idx):\n",
        "        return self.embedding_strings[idx]\n",
        "    \n",
        "    def search(self, query: str, top_k: int = 4) -> List[Tuple[int, float]]:\n",
        "        \"\"\"Search for products using a text query.\"\"\"\n",
        "        query_embedding = self.model.encode([query])[0]\n",
        "        \n",
        "        similarities = np.dot(self.embeddings, query_embedding) / (\n",
        "            np.linalg.norm(self.embeddings, axis=1) * np.linalg.norm(query_embedding)\n",
        "        )\n",
        "        \n",
        "        top_idx = np.argsort(similarities)[::-1][:top_k]\n",
        "        return [(idx, similarities[idx]) for idx in top_idx]\n",
        "    \n",
        "searcher = ProductSearcher()"
      ],
      "id": "f8ceaa57"
    },
    {
      "cell_type": "code",
      "execution_count": null,
      "metadata": {},
      "outputs": [],
      "source": [
        "hits=searcher.search(\"Socks for holiday\", 3)\n",
        "\n",
        "idx_first = hits[0][0]\n",
        "idx_second = hits[1][0]\n",
        "idx_third = hits[2][0]\n",
        "\n",
        "similarity_first = hits[0][1]\n",
        "similarity_second = hits[1][1]\n",
        "similarity_third = hits[2][1]\n",
        "\n",
        "print(similarity_first)\n",
        "print(searcher.get_embedding_string(idx_first))\n",
        "print(similarity_second)\n",
        "print(searcher.get_embedding_string(idx_second))\n",
        "print(similarity_third)\n",
        "print(searcher.get_embedding_string(idx_third))"
      ],
      "id": "bd6b57ed"
    }
  ],
  "nbformat": 4,
  "nbformat_minor": 5,
  "metadata": {
    "kernelspec": {
      "name": "python3",
      "display_name": "Python 3 (ipykernel)",
      "language": "python"
    }
  }
}